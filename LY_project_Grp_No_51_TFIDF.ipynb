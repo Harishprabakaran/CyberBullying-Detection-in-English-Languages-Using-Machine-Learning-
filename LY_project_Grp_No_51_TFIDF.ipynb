{
  "cells": [
    {
      "cell_type": "code",
      "execution_count": 1,
      "metadata": {
        "id": "BGQBf9kY70cO"
      },
      "outputs": [],
      "source": [
        "import numpy as np\n",
        "import pandas as pd\n",
        "import os                           #Built in module\n",
        "import seaborn as sns                 \n",
        "import re \n",
        "import nltk \n",
        "from sklearn.feature_extraction.text import TfidfVectorizer, CountVectorizer, TfidfTransformer\n",
        "from nltk import sent_tokenize, word_tokenize\n",
        "from sklearn.metrics import f1_score, accuracy_score, precision_score, recall_score, make_scorer\n",
        "from sklearn.model_selection import train_test_split\n",
        "from time import time\n",
        "\n",
        "import xgboost as xgb\n",
        "from sklearn.naive_bayes import MultinomialNB\n",
        "from sklearn.tree import DecisionTreeClassifier\n",
        "from sklearn.svm import LinearSVC\n",
        "from sklearn.ensemble import AdaBoostClassifier, RandomForestClassifier, BaggingClassifier\n",
        "from sklearn.linear_model import LogisticRegression, SGDClassifier\n",
        "from sklearn.neighbors import KNeighborsClassifier\n",
        "\n",
        "from matplotlib import pyplot as plt\n",
        "import pandas as pd\n",
        "import io\n",
        "from sklearn.metrics import classification_report\n",
        "import pickle"
      ]
    },
    {
      "cell_type": "code",
      "execution_count": 2,
      "metadata": {
        "colab": {
          "base_uri": "https://localhost:8080/",
          "height": 74,
          "resources": {
            "http://localhost:8080/nbextensions/google.colab/files.js": {
              "data": "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",
              "headers": [
                [
                  "content-type",
                  "application/javascript"
                ]
              ],
              "ok": true,
              "status": 200,
              "status_text": ""
            }
          }
        },
        "id": "MTeQCyS0779d",
        "outputId": "205763a9-5731-4695-b3db-4562e468032a"
      },
      "outputs": [],
      "source": [
        "# upload dataset"
      ]
    },
    {
      "cell_type": "code",
      "execution_count": 4,
      "metadata": {
        "colab": {
          "base_uri": "https://localhost:8080/",
          "height": 206
        },
        "id": "d6U1cXdm78Hv",
        "outputId": "83053951-661a-4693-8f03-825c8b928cf7"
      },
      "outputs": [
        {
          "data": {
            "text/html": [
              "<div>\n",
              "<style scoped>\n",
              "    .dataframe tbody tr th:only-of-type {\n",
              "        vertical-align: middle;\n",
              "    }\n",
              "\n",
              "    .dataframe tbody tr th {\n",
              "        vertical-align: top;\n",
              "    }\n",
              "\n",
              "    .dataframe thead th {\n",
              "        text-align: right;\n",
              "    }\n",
              "</style>\n",
              "<table border=\"1\" class=\"dataframe\">\n",
              "  <thead>\n",
              "    <tr style=\"text-align: right;\">\n",
              "      <th></th>\n",
              "      <th>headline</th>\n",
              "      <th>label</th>\n",
              "    </tr>\n",
              "  </thead>\n",
              "  <tbody>\n",
              "    <tr>\n",
              "      <th>0</th>\n",
              "      <td>cock  suck before you piss around on my work</td>\n",
              "      <td>1</td>\n",
              "    </tr>\n",
              "    <tr>\n",
              "      <th>1</th>\n",
              "      <td>you are  gay or antisemmitian archangel white ...</td>\n",
              "      <td>1</td>\n",
              "    </tr>\n",
              "    <tr>\n",
              "      <th>2</th>\n",
              "      <td>fuck your filthy mother in the ass  dry</td>\n",
              "      <td>1</td>\n",
              "    </tr>\n",
              "    <tr>\n",
              "      <th>3</th>\n",
              "      <td>get fuck  ed up  get fuck  ed up got a drink t...</td>\n",
              "      <td>1</td>\n",
              "    </tr>\n",
              "    <tr>\n",
              "      <th>4</th>\n",
              "      <td>stupid peace of  shit  stop deleting my stuff ...</td>\n",
              "      <td>1</td>\n",
              "    </tr>\n",
              "  </tbody>\n",
              "</table>\n",
              "</div>"
            ],
            "text/plain": [
              "                                            headline  label\n",
              "0       cock  suck before you piss around on my work      1\n",
              "1  you are  gay or antisemmitian archangel white ...      1\n",
              "2            fuck your filthy mother in the ass  dry      1\n",
              "3  get fuck  ed up  get fuck  ed up got a drink t...      1\n",
              "4  stupid peace of  shit  stop deleting my stuff ...      1"
            ]
          },
          "execution_count": 4,
          "metadata": {},
          "output_type": "execute_result"
        }
      ],
      "source": [
        "#dataframe manipulation\n",
        "def performDataFrameManipulation():\n",
        "  df = pd.read_csv(r'C:\\Users\\selvi\\Desktop\\Harish ECE\\CyberBullying-Detection-in-English-Languages-Using-Machine-Learning-\\Dataset\\final_dataset_hinglish.csv')\n",
        "\n",
        "  for index in df.index:\n",
        "    if df.loc[index,\"label\"]==-1:\n",
        "      df.loc[index,\"label\"]=1\n",
        "\n",
        "  return df\n",
        "\n",
        "df=performDataFrameManipulation()\n",
        "df.head()"
      ]
    },
    {
      "cell_type": "code",
      "execution_count": 5,
      "metadata": {
        "colab": {
          "base_uri": "https://localhost:8080/",
          "height": 289
        },
        "id": "STFAMrOO78KZ",
        "outputId": "e25a4bfe-c903-4b99-d70d-968d60729b2b"
      },
      "outputs": [
        {
          "data": {
            "image/png": "[encoded data removed]",
            "text/plain": [
              "<Figure size 432x288 with 1 Axes>"
            ]
          },
          "metadata": {},
          "output_type": "display_data"
        }
      ],
      "source": [
        "# Data classification using pie chart\n",
        "def performDataDistribution(df):\n",
        "  plt.style.use('fivethirtyeight')\n",
        "\n",
        "  tot = df.shape[0]\n",
        "  num_non_toxic = df[df.label==1].shape[0]\n",
        "  slices = [num_non_toxic/tot,(tot - num_non_toxic)/tot]\n",
        "  labeling = ['Non-Toxic','Toxic']\n",
        "  explode = [0.1,0]\n",
        "  plt.pie(slices,explode=explode,shadow=True,autopct='%1.1f%%',labels=labeling,wedgeprops={'edgecolor':'green'})\n",
        "  plt.title('Number of Toxic vs. Non-Toxic Text Samples')\n",
        "  plt.tight_layout()\n",
        "  plt.show()\n",
        "\n",
        "performDataDistribution(df)"
      ]
    },
    {
      "cell_type": "code",
      "execution_count": 6,
      "metadata": {
        "id": "eA9xaYfh78M-"
      },
      "outputs": [],
      "source": [
        "#removing pattern\n",
        "def remove_pattern(input_txt,pattern):\n",
        "  if(type(input_txt)==str):\n",
        "    r= re.findall(pattern,input_txt)\n",
        "    for i in r:\n",
        "      input_txt = re.sub(i,'',input_txt)\n",
        "    return input_txt\n",
        "  else:\n",
        "    return \"\""
      ]
    },
    {
      "cell_type": "code",
      "execution_count": 7,
      "metadata": {
        "colab": {
          "base_uri": "https://localhost:8080/",
          "height": 342
        },
        "id": "BkXCWGU178P0",
        "outputId": "840722be-c424-42f6-bc2e-d616a1e584eb"
      },
      "outputs": [
        {
          "name": "stderr",
          "output_type": "stream",
          "text": [
            "C:\\Users\\selvi\\AppData\\Local\\Temp\\ipykernel_9304\\356777283.py:4: FutureWarning: The frame.append method is deprecated and will be removed from pandas in a future version. Use pandas.concat instead.\n",
            "  combi = df.append(df,ignore_index=True)\n",
            "C:\\Users\\selvi\\AppData\\Local\\Temp\\ipykernel_9304\\356777283.py:9: FutureWarning: The default value of regex will change from True to False in a future version.\n",
            "  combi['tidy_tweet'] = combi['tidy_tweet'].str.replace(\"[^a-zA-z#]\",\" \")\n",
            "[nltk_data] Downloading package wordnet to\n",
            "[nltk_data]     C:\\Users\\selvi\\AppData\\Roaming\\nltk_data...\n",
            "[nltk_data]   Package wordnet is already up-to-date!\n"
          ]
        },
        {
          "data": {
            "text/html": [
              "<div>\n",
              "<style scoped>\n",
              "    .dataframe tbody tr th:only-of-type {\n",
              "        vertical-align: middle;\n",
              "    }\n",
              "\n",
              "    .dataframe tbody tr th {\n",
              "        vertical-align: top;\n",
              "    }\n",
              "\n",
              "    .dataframe thead th {\n",
              "        text-align: right;\n",
              "    }\n",
              "</style>\n",
              "<table border=\"1\" class=\"dataframe\">\n",
              "  <thead>\n",
              "    <tr style=\"text-align: right;\">\n",
              "      <th></th>\n",
              "      <th>headline</th>\n",
              "      <th>label</th>\n",
              "      <th>length_headline</th>\n",
              "      <th>tidy_tweet</th>\n",
              "      <th>length_tidy_tweet</th>\n",
              "    </tr>\n",
              "  </thead>\n",
              "  <tbody>\n",
              "    <tr>\n",
              "      <th>0</th>\n",
              "      <td>cock  suck before you piss around on my work</td>\n",
              "      <td>1</td>\n",
              "      <td>44</td>\n",
              "      <td>cock suck before piss around work</td>\n",
              "      <td>33</td>\n",
              "    </tr>\n",
              "    <tr>\n",
              "      <th>1</th>\n",
              "      <td>you are  gay or antisemmitian archangel white ...</td>\n",
              "      <td>1</td>\n",
              "      <td>624</td>\n",
              "      <td>antisemmitian archangel white tiger meow greet...</td>\n",
              "      <td>400</td>\n",
              "    </tr>\n",
              "    <tr>\n",
              "      <th>2</th>\n",
              "      <td>fuck your filthy mother in the ass  dry</td>\n",
              "      <td>1</td>\n",
              "      <td>39</td>\n",
              "      <td>fuck your filthy mother</td>\n",
              "      <td>23</td>\n",
              "    </tr>\n",
              "    <tr>\n",
              "      <th>3</th>\n",
              "      <td>get fuck  ed up  get fuck  ed up got a drink t...</td>\n",
              "      <td>1</td>\n",
              "      <td>121</td>\n",
              "      <td>fuck fuck drink that cant down fuck fuck fuck ...</td>\n",
              "      <td>51</td>\n",
              "    </tr>\n",
              "    <tr>\n",
              "      <th>4</th>\n",
              "      <td>stupid peace of  shit  stop deleting my stuff ...</td>\n",
              "      <td>1</td>\n",
              "      <td>93</td>\n",
              "      <td>stupid peace shit stop deleting stuff hole fal...</td>\n",
              "      <td>57</td>\n",
              "    </tr>\n",
              "  </tbody>\n",
              "</table>\n",
              "</div>"
            ],
            "text/plain": [
              "                                            headline  label  length_headline  \\\n",
              "0       cock  suck before you piss around on my work      1               44   \n",
              "1  you are  gay or antisemmitian archangel white ...      1              624   \n",
              "2            fuck your filthy mother in the ass  dry      1               39   \n",
              "3  get fuck  ed up  get fuck  ed up got a drink t...      1              121   \n",
              "4  stupid peace of  shit  stop deleting my stuff ...      1               93   \n",
              "\n",
              "                                          tidy_tweet  length_tidy_tweet  \n",
              "0                  cock suck before piss around work                 33  \n",
              "1  antisemmitian archangel white tiger meow greet...                400  \n",
              "2                            fuck your filthy mother                 23  \n",
              "3  fuck fuck drink that cant down fuck fuck fuck ...                 51  \n",
              "4  stupid peace shit stop deleting stuff hole fal...                 57  "
            ]
          },
          "execution_count": 7,
          "metadata": {},
          "output_type": "execute_result"
        }
      ],
      "source": [
        "def performDataSetCleaning(df):\n",
        "  df['headline'].dtype\n",
        "  df['length_headline'] = df['headline'].str.len()\n",
        "  combi = df.append(df,ignore_index=True)\n",
        "\n",
        "  # removes @user\n",
        "  combi['tidy_tweet'] = np.vectorize(remove_pattern)(combi['headline'],\"@[\\w]*\")\n",
        "  # removes extra letters \n",
        "  combi['tidy_tweet'] = combi['tidy_tweet'].str.replace(\"[^a-zA-z#]\",\" \")\n",
        "  # removes all those words with size less than 3 \n",
        "  combi['tidy_tweet']= combi['tidy_tweet'].apply(lambda x : ' '.join([w for w in x.split() if len(w)>3]))\n",
        "\n",
        "  # calculate length of headline after cleaning\n",
        "  combi['length_tidy_tweet'] = combi['tidy_tweet'].str.len()\n",
        "\n",
        "  # Applied Tokenization\n",
        "  tokenized_tweet = combi['tidy_tweet'].apply(lambda x: x.split()) #creates a list\n",
        "\n",
        "  # Applied Lemmatization \n",
        "  nltk.download('wordnet')\n",
        "  lemmatizer = nltk.stem.WordNetLemmatizer()\n",
        "  tokenized_tweet = tokenized_tweet.apply(lambda x: [lemmatizer.lemmatize(i) for i in x])\n",
        "\n",
        "  for i in range(len(tokenized_tweet)):\n",
        "    tokenized_tweet[i] = ' '.join(tokenized_tweet[i])\n",
        "  combi['tidy_tweet'] = tokenized_tweet\n",
        "\n",
        "  return combi,df\n",
        "\n",
        "combi,df=performDataSetCleaning(df)  \n",
        "combi.head()"
      ]
    },
    {
      "cell_type": "code",
      "execution_count": 8,
      "metadata": {
        "colab": {
          "base_uri": "https://localhost:8080/"
        },
        "id": "l3TZUOPm78Uj",
        "outputId": "4305c4b0-16f4-44b6-bba0-cc74f36bfb41"
      },
      "outputs": [
        {
          "name": "stdout",
          "output_type": "stream",
          "text": [
            "Number of rows in the total set: 36296\n",
            "Number of rows in the training set: 24318\n",
            "Number of rows in the test set: 11978\n"
          ]
        },
        {
          "name": "stderr",
          "output_type": "stream",
          "text": [
            "c:\\Python310\\lib\\site-packages\\sklearn\\feature_extraction\\text.py:404: UserWarning: Your stop_words may be inconsistent with your preprocessing. Tokenizing the stop words generated tokens ['ninad'] not in stop_words.\n",
            "  warnings.warn(\n"
          ]
        },
        {
          "name": "stdout",
          "output_type": "stream",
          "text": [
            "(24318,)\n",
            "(24318, 29980)\n"
          ]
        }
      ],
      "source": [
        "#Dataset splitting and applying feature extraction\n",
        "def performTestDataSplitting(x,y,combi,df):\n",
        "  X_train, X_test,y_train,y_test = train_test_split(combi['tidy_tweet'], \n",
        "                                                    combi['label'], \n",
        "                                                    test_size=x,random_state=y)\n",
        "  print('Number of rows in the total set: {}'.format(combi.shape[0]))\n",
        "  print('Number of rows in the training set: {}'.format(X_train.shape[0]))\n",
        "  print('Number of rows in the test set: {}'.format(X_test.shape[0]))\n",
        "\n",
        "  my_file = open(r\"C:\\Users\\selvi\\Desktop\\Harish ECE\\CyberBullying-Detection-in-English-Languages-Using-Machine-Learning-\\Safe_Chat\\stopwords.txt\", \"r\")\n",
        "  content = my_file.read()\n",
        "  content_list = content.split(\"\\n\")\n",
        "  my_file.close()\n",
        "\n",
        "  # Instantiate the TfidfVectorizer method\n",
        "  tfidf_vector = TfidfVectorizer(stop_words = content_list ,lowercase = True)\n",
        "\n",
        "  # Fit the training data and then return the matrix\n",
        "  training_data = tfidf_vector.fit_transform(X_train.values.astype('U'))\n",
        "  print(X_train.shape)\n",
        "  print(training_data.shape)\n",
        "\n",
        "  # Transform testing data and return the matrix \n",
        "  testing_data = tfidf_vector.transform(X_test.values.astype('U'))\n",
        "\n",
        "  filename = 'tfidf_vector_vocabulary.pkl'\n",
        "  pickle.dump(tfidf_vector.vocabulary_, open(filename, 'wb'))\n",
        "\n",
        "  return X_train,X_test,y_train,y_test,testing_data,filename,training_data,content_list\n",
        "\n",
        "x_train,x_test,y_train,y_test,testing_data,filename,training_data,content_list = performTestDataSplitting(0.33,42,combi,df)"
      ]
    },
    {
      "cell_type": "code",
      "execution_count": 9,
      "metadata": {
        "colab": {
          "base_uri": "https://localhost:8080/"
        },
        "id": "pcsJD_J378XO",
        "outputId": "215948e2-f3d4-4f77-d845-49a971c0ab9c"
      },
      "outputs": [
        {
          "name": "stdout",
          "output_type": "stream",
          "text": [
            "LinearSVC()\n",
            "Training LinearSVC\n",
            "Training LinearSVC finished in 0.21 sec\n",
            "----------------------------------------------------\n",
            "LogisticRegression()\n",
            "Training LogisticRegression\n",
            "Training LogisticRegression finished in 0.94 sec\n",
            "----------------------------------------------------\n",
            "MultinomialNB()\n",
            "Training MultinomialNB\n",
            "Training MultinomialNB finished in 0.06 sec\n",
            "----------------------------------------------------\n",
            "DecisionTreeClassifier()\n",
            "Training DecisionTreeClassifier\n",
            "Training DecisionTreeClassifier finished in 7.55 sec\n",
            "----------------------------------------------------\n",
            "AdaBoostClassifier()\n",
            "Training AdaBoostClassifier\n",
            "Training AdaBoostClassifier finished in 4.43 sec\n",
            "----------------------------------------------------\n",
            "BaggingClassifier()\n",
            "Training BaggingClassifier\n",
            "Training BaggingClassifier finished in 66.39 sec\n",
            "----------------------------------------------------\n",
            "SGDClassifier()\n",
            "Training SGDClassifier\n",
            "Training SGDClassifier finished in 0.11 sec\n",
            "----------------------------------------------------\n"
          ]
        }
      ],
      "source": [
        "# Applying ML models\n",
        "def pipeline(X_train, y_train, X_test, y_test): \n",
        "    '''\n",
        "    inputs:\n",
        "       - learner: the learning algorithm to be trained and predicted on\n",
        "       - X_train: features training set\n",
        "       - y_train: income training set\n",
        "       - X_test: features testing set\n",
        "       - y_test: income testing set\n",
        "    '''\n",
        "    \n",
        "    # make a list of models\n",
        "    learner_list = [LinearSVC(),LogisticRegression(),MultinomialNB(),DecisionTreeClassifier(), \n",
        "          AdaBoostClassifier(), BaggingClassifier(), SGDClassifier()]\n",
        "    # Get length of Training Data:\n",
        "    size = len(y_train)\n",
        "    \n",
        "    results = {}\n",
        "    final_results = []\n",
        "\n",
        "    for learner in learner_list:\n",
        "        \n",
        "        print(learner)\n",
        "        # Store the learner name:\n",
        "        results['Algorithm'] = learner.__class__.__name__\n",
        "\n",
        "        # Fit the learner:\n",
        "        start = time() # Get start time\n",
        "        print(\"Training {}\".format(learner.__class__.__name__))\n",
        "        learner = learner.fit(X_train, y_train)\n",
        "        end = time() # Get end time\n",
        "\n",
        "        # making pickle file here for my various classifier\n",
        "\n",
        "        filename = learner.__class__.__name__+\".pkl\"\n",
        "        pickle.dump(learner, open(filename, 'wb'))\n",
        "\n",
        "\n",
        "        # Store the training time\n",
        "        results['Training Time'] = end - start\n",
        "\n",
        "        start = time() # Get start time\n",
        "        predictions_test = learner.predict(X_test)\n",
        "        predictions_train = learner.predict(X_train)\n",
        "        end = time() # Get end time\n",
        "\n",
        "        # Store the prediction time\n",
        "        results['Prediction Time'] = end - start\n",
        "\n",
        "        # Compute the Accuracy on Test Set\n",
        "        results['Accuracy: Test'] = accuracy_score(y_test, predictions_test)\n",
        "\n",
        "        # Compute the Accuracy on Training Set\n",
        "        results['Accuracy: Train'] = accuracy_score(y_train, predictions_train)\n",
        "\n",
        "        # Compute the F1 Score on Test Set\n",
        "        results['F1 Score: Test'] = f1_score(y_test, predictions_test)\n",
        "\n",
        "        # Compute the F1 Score on Training Set\n",
        "        results['F1 Score: Train'] = f1_score(y_train, predictions_train)\n",
        "\n",
        "        # Compute the Precision on Test Set\n",
        "        results['Precision: Test'] = precision_score(y_test, predictions_test)\n",
        "\n",
        "        # Compute the Precision on Training Set\n",
        "        results['Precision: Train'] = precision_score(y_train, predictions_train)\n",
        "\n",
        "        # Compute the Recall on Test Set\n",
        "        results['Recall: Test'] = recall_score(y_test, predictions_test)\n",
        "\n",
        "        # Compute the Recall on Training Set\n",
        "        results['Recall: Train'] = recall_score(y_train, predictions_train)\n",
        "\n",
        "        # Success\n",
        "        print(\"Training {} finished in {:.2f} sec\".format(learner.__class__.__name__, results['Training Time']))\n",
        "        print('----------------------------------------------------')\n",
        "        \n",
        "        final_results.append(results.copy())\n",
        "    # Return a dataframe of the results\n",
        "    return final_results\n",
        "\n",
        "final_results=pipeline(training_data,y_train,testing_data,y_test)"
      ]
    },
    {
      "cell_type": "code",
      "execution_count": 10,
      "metadata": {
        "colab": {
          "base_uri": "https://localhost:8080/",
          "height": 368
        },
        "id": "vJR0R6ef9jol",
        "outputId": "7b3f5235-298a-4f99-faad-e7f6427673e2"
      },
      "outputs": [
        {
          "data": {
            "text/html": [
              "<div>\n",
              "<style scoped>\n",
              "    .dataframe tbody tr th:only-of-type {\n",
              "        vertical-align: middle;\n",
              "    }\n",
              "\n",
              "    .dataframe tbody tr th {\n",
              "        vertical-align: top;\n",
              "    }\n",
              "\n",
              "    .dataframe thead th {\n",
              "        text-align: right;\n",
              "    }\n",
              "</style>\n",
              "<table border=\"1\" class=\"dataframe\">\n",
              "  <thead>\n",
              "    <tr style=\"text-align: right;\">\n",
              "      <th></th>\n",
              "      <th>Algorithm</th>\n",
              "      <th>Accuracy: Test</th>\n",
              "      <th>Precision: Test</th>\n",
              "      <th>Recall: Test</th>\n",
              "      <th>F1 Score: Test</th>\n",
              "      <th>Prediction Time</th>\n",
              "      <th>Accuracy: Train</th>\n",
              "      <th>Precision: Train</th>\n",
              "      <th>Recall: Train</th>\n",
              "      <th>F1 Score: Train</th>\n",
              "      <th>Training Time</th>\n",
              "    </tr>\n",
              "  </thead>\n",
              "  <tbody>\n",
              "    <tr>\n",
              "      <th>0</th>\n",
              "      <td>DecisionTreeClassifier</td>\n",
              "      <td>0.954082</td>\n",
              "      <td>0.954794</td>\n",
              "      <td>0.974652</td>\n",
              "      <td>0.964621</td>\n",
              "      <td>0.061831</td>\n",
              "      <td>0.996546</td>\n",
              "      <td>0.995600</td>\n",
              "      <td>0.999040</td>\n",
              "      <td>0.997317</td>\n",
              "      <td>7.547804</td>\n",
              "    </tr>\n",
              "    <tr>\n",
              "      <th>1</th>\n",
              "      <td>BaggingClassifier</td>\n",
              "      <td>0.953164</td>\n",
              "      <td>0.962157</td>\n",
              "      <td>0.965033</td>\n",
              "      <td>0.963593</td>\n",
              "      <td>0.602986</td>\n",
              "      <td>0.993379</td>\n",
              "      <td>0.993996</td>\n",
              "      <td>0.995713</td>\n",
              "      <td>0.994854</td>\n",
              "      <td>66.390351</td>\n",
              "    </tr>\n",
              "    <tr>\n",
              "      <th>2</th>\n",
              "      <td>LinearSVC</td>\n",
              "      <td>0.947571</td>\n",
              "      <td>0.961584</td>\n",
              "      <td>0.956584</td>\n",
              "      <td>0.959077</td>\n",
              "      <td>0.005021</td>\n",
              "      <td>0.988239</td>\n",
              "      <td>0.991668</td>\n",
              "      <td>0.990019</td>\n",
              "      <td>0.990843</td>\n",
              "      <td>0.213425</td>\n",
              "    </tr>\n",
              "    <tr>\n",
              "      <th>3</th>\n",
              "      <td>LogisticRegression</td>\n",
              "      <td>0.932126</td>\n",
              "      <td>0.952156</td>\n",
              "      <td>0.941635</td>\n",
              "      <td>0.946866</td>\n",
              "      <td>0.008976</td>\n",
              "      <td>0.960729</td>\n",
              "      <td>0.971348</td>\n",
              "      <td>0.967432</td>\n",
              "      <td>0.969386</td>\n",
              "      <td>0.939428</td>\n",
              "    </tr>\n",
              "    <tr>\n",
              "      <th>4</th>\n",
              "      <td>SGDClassifier</td>\n",
              "      <td>0.931374</td>\n",
              "      <td>0.959230</td>\n",
              "      <td>0.932796</td>\n",
              "      <td>0.945828</td>\n",
              "      <td>0.004036</td>\n",
              "      <td>0.960112</td>\n",
              "      <td>0.974555</td>\n",
              "      <td>0.963081</td>\n",
              "      <td>0.968784</td>\n",
              "      <td>0.110509</td>\n",
              "    </tr>\n",
              "    <tr>\n",
              "      <th>5</th>\n",
              "      <td>MultinomialNB</td>\n",
              "      <td>0.892553</td>\n",
              "      <td>0.880133</td>\n",
              "      <td>0.963993</td>\n",
              "      <td>0.920156</td>\n",
              "      <td>0.009973</td>\n",
              "      <td>0.925199</td>\n",
              "      <td>0.912830</td>\n",
              "      <td>0.976902</td>\n",
              "      <td>0.943780</td>\n",
              "      <td>0.060449</td>\n",
              "    </tr>\n",
              "    <tr>\n",
              "      <th>6</th>\n",
              "      <td>AdaBoostClassifier</td>\n",
              "      <td>0.833695</td>\n",
              "      <td>0.963873</td>\n",
              "      <td>0.769921</td>\n",
              "      <td>0.856049</td>\n",
              "      <td>0.806808</td>\n",
              "      <td>0.839296</td>\n",
              "      <td>0.970156</td>\n",
              "      <td>0.773754</td>\n",
              "      <td>0.860896</td>\n",
              "      <td>4.427829</td>\n",
              "    </tr>\n",
              "  </tbody>\n",
              "</table>\n",
              "</div>"
            ],
            "text/plain": [
              "                Algorithm  Accuracy: Test  Precision: Test  Recall: Test  \\\n",
              "0  DecisionTreeClassifier        0.954082         0.954794      0.974652   \n",
              "1       BaggingClassifier        0.953164         0.962157      0.965033   \n",
              "2               LinearSVC        0.947571         0.961584      0.956584   \n",
              "3      LogisticRegression        0.932126         0.952156      0.941635   \n",
              "4           SGDClassifier        0.931374         0.959230      0.932796   \n",
              "5           MultinomialNB        0.892553         0.880133      0.963993   \n",
              "6      AdaBoostClassifier        0.833695         0.963873      0.769921   \n",
              "\n",
              "   F1 Score: Test  Prediction Time  Accuracy: Train  Precision: Train  \\\n",
              "0        0.964621         0.061831         0.996546          0.995600   \n",
              "1        0.963593         0.602986         0.993379          0.993996   \n",
              "2        0.959077         0.005021         0.988239          0.991668   \n",
              "3        0.946866         0.008976         0.960729          0.971348   \n",
              "4        0.945828         0.004036         0.960112          0.974555   \n",
              "5        0.920156         0.009973         0.925199          0.912830   \n",
              "6        0.856049         0.806808         0.839296          0.970156   \n",
              "\n",
              "   Recall: Train  F1 Score: Train  Training Time  \n",
              "0       0.999040         0.997317       7.547804  \n",
              "1       0.995713         0.994854      66.390351  \n",
              "2       0.990019         0.990843       0.213425  \n",
              "3       0.967432         0.969386       0.939428  \n",
              "4       0.963081         0.968784       0.110509  \n",
              "5       0.976902         0.943780       0.060449  \n",
              "6       0.773754         0.860896       4.427829  "
            ]
          },
          "execution_count": 10,
          "metadata": {},
          "output_type": "execute_result"
        }
      ],
      "source": [
        "def performFinalResults(final_results):\n",
        "  results = pd.DataFrame(final_results)\n",
        "  results = results.reindex(columns = ['Algorithm', 'Accuracy: Test', 'Precision: Test', 'Recall: Test', 'F1 Score: Test', 'Prediction Time',\n",
        "                          'Accuracy: Train', 'Precision: Train', 'Recall: Train', 'F1 Score: Train', 'Training Time'])\n",
        "\n",
        "  results.sort_values(by = 'F1 Score: Test', inplace = True, ascending = False)\n",
        "\n",
        "  return results\n",
        "\n",
        "results=performFinalResults(final_results)\n",
        "results.reset_index(drop = True)"
      ]
    },
    {
      "cell_type": "code",
      "execution_count": 11,
      "metadata": {
        "colab": {
          "base_uri": "https://localhost:8080/",
          "height": 191
        },
        "id": "l2kkMh919jtT",
        "outputId": "58d39258-0ba7-4293-ef90-9ee2288793bb"
      },
      "outputs": [
        {
          "data": {
            "text/html": [
              "<div>\n",
              "<style scoped>\n",
              "    .dataframe tbody tr th:only-of-type {\n",
              "        vertical-align: middle;\n",
              "    }\n",
              "\n",
              "    .dataframe tbody tr th {\n",
              "        vertical-align: top;\n",
              "    }\n",
              "\n",
              "    .dataframe thead th {\n",
              "        text-align: right;\n",
              "    }\n",
              "</style>\n",
              "<table border=\"1\" class=\"dataframe\">\n",
              "  <thead>\n",
              "    <tr style=\"text-align: right;\">\n",
              "      <th></th>\n",
              "      <th>Accuracy: Test</th>\n",
              "      <th>Precision: Test</th>\n",
              "      <th>Recall: Test</th>\n",
              "      <th>F1 Score: Test</th>\n",
              "      <th>Prediction Time</th>\n",
              "      <th>Accuracy: Train</th>\n",
              "      <th>Precision: Train</th>\n",
              "      <th>Recall: Train</th>\n",
              "      <th>F1 Score: Train</th>\n",
              "      <th>Training Time</th>\n",
              "    </tr>\n",
              "  </thead>\n",
              "  <tbody>\n",
              "    <tr>\n",
              "      <th>min</th>\n",
              "      <td>0.833695</td>\n",
              "      <td>0.880133</td>\n",
              "      <td>0.769921</td>\n",
              "      <td>0.856049</td>\n",
              "      <td>0.004036</td>\n",
              "      <td>0.839296</td>\n",
              "      <td>0.91283</td>\n",
              "      <td>0.773754</td>\n",
              "      <td>0.860896</td>\n",
              "      <td>0.060449</td>\n",
              "    </tr>\n",
              "    <tr>\n",
              "      <th>max</th>\n",
              "      <td>0.954082</td>\n",
              "      <td>0.963873</td>\n",
              "      <td>0.974652</td>\n",
              "      <td>0.964621</td>\n",
              "      <td>0.806808</td>\n",
              "      <td>0.996546</td>\n",
              "      <td>0.99560</td>\n",
              "      <td>0.999040</td>\n",
              "      <td>0.997317</td>\n",
              "      <td>66.390351</td>\n",
              "    </tr>\n",
              "  </tbody>\n",
              "</table>\n",
              "</div>"
            ],
            "text/plain": [
              "     Accuracy: Test  Precision: Test  Recall: Test  F1 Score: Test  \\\n",
              "min        0.833695         0.880133      0.769921        0.856049   \n",
              "max        0.954082         0.963873      0.974652        0.964621   \n",
              "\n",
              "     Prediction Time  Accuracy: Train  Precision: Train  Recall: Train  \\\n",
              "min         0.004036         0.839296           0.91283       0.773754   \n",
              "max         0.806808         0.996546           0.99560       0.999040   \n",
              "\n",
              "     F1 Score: Train  Training Time  \n",
              "min         0.860896       0.060449  \n",
              "max         0.997317      66.390351  "
            ]
          },
          "execution_count": 11,
          "metadata": {},
          "output_type": "execute_result"
        }
      ],
      "source": [
        "results.describe().loc[['min', 'max'], :]"
      ]
    },
    {
      "cell_type": "code",
      "execution_count": 12,
      "metadata": {
        "colab": {
          "base_uri": "https://localhost:8080/",
          "height": 462
        },
        "id": "sMNUNrSR9jwb",
        "outputId": "2bec9898-a0e4-4cec-8b18-ce322f3f545e"
      },
      "outputs": [
        {
          "data": {
            "image/png": "[encoded data removed]",
            "text/plain": [
              "<Figure size 1080x432 with 1 Axes>"
            ]
          },
          "metadata": {},
          "output_type": "display_data"
        }
      ],
      "source": [
        "# Classification of Summary of Algorithma \n",
        "best_acc = results[results['Accuracy: Test'] == results['Accuracy: Test'].max()]\n",
        "best_f1 = results[results['F1 Score: Test'] == results['F1 Score: Test'].max()]\n",
        "best_precision = results[results['Precision: Test'] == results['Precision: Test'].max()]\n",
        "best_recall = results[results['Recall: Test'] == results['Recall: Test'].max()]\n",
        "\n",
        "sns.set_style('darkgrid')\n",
        "plt.figure(figsize = (15, 6))\n",
        "\n",
        "barWidth = 0.17\n",
        " \n",
        "# set height of bar\n",
        "bars1 = results['Accuracy: Test']\n",
        "bars2 = results['F1 Score: Test']\n",
        "\n",
        "# Set position of bar on X axis\n",
        "r1 = np.arange(len(bars1))\n",
        "r2 = [x + barWidth for x in r1]\n",
        "\n",
        "# Make the plot\n",
        "pal = sns.color_palette()\n",
        "plt.bar(r1, bars1, color= pal[2], width=barWidth, edgecolor='black', label='Test Accuracy')\n",
        "plt.bar(r2, bars2, color= pal[0], width=barWidth, edgecolor='black', label='Test F1 Score')\n",
        "\n",
        "# Add xticks on the middle of the group bars\n",
        "plt.xlabel('Algorithm', fontweight='bold', fontsize = 13)\n",
        "plt.ylabel('Score', fontweight = 'bold', fontsize = 13)\n",
        "plt.xticks([r + barWidth for r in range(len(bars1))], results['Algorithm'], rotation = 15, fontsize = 11)\n",
        " \n",
        "# Create legend & Show graphic\n",
        "plt.legend(fontsize = 13)\n",
        "\n",
        "textstr = '\\n'.join(['Best Accuracy: {:.3f} - {}'.format(best_acc['Accuracy: Test'].values[0], best_acc['Algorithm'].values[0]), \n",
        "                     'Best F1 Score: {:.3f} - {}'.format(best_f1['F1 Score: Test'].values[0], best_f1['Algorithm'].values[0])])\n",
        "props = dict(boxstyle='round', facecolor='lightgrey', alpha=0.5)\n",
        "\n",
        "plt.title('Classification Summary of Algorithms', fontweight = 'bold', fontsize = 17);"
      ]
    },
    {
      "cell_type": "code",
      "execution_count": 13,
      "metadata": {
        "colab": {
          "base_uri": "https://localhost:8080/",
          "height": 539
        },
        "id": "K2WaaxXW9j0F",
        "outputId": "f3c7ae0c-c872-4a46-e27c-45d7f71bbe2a"
      },
      "outputs": [
        {
          "data": {
            "text/plain": [
              "Text(0.5, 1.0, 'Training and Prediction time of Algorithms')"
            ]
          },
          "execution_count": 13,
          "metadata": {},
          "output_type": "execute_result"
        },
        {
          "data": {
            "image/png": "[encoded data removed]",
            "text/plain": [
              "<Figure size 864x504 with 1 Axes>"
            ]
          },
          "metadata": {},
          "output_type": "display_data"
        }
      ],
      "source": [
        "# store the best/worst performance time\n",
        "best_train_time = results[results['Training Time'] == results['Training Time'].min()]\n",
        "worst_train_time = results[results['Training Time'] == results['Training Time'].max()]\n",
        "best_prediction_time = results[results['Prediction Time'] == results['Prediction Time'].min()]\n",
        "worst_prediction_time = results[results['Prediction Time'] == results['Prediction Time'].max()]\n",
        "\n",
        "plt.figure(figsize = (12, 7))\n",
        "\n",
        "barWidth = 0.17\n",
        " \n",
        "# set height of bar\n",
        "bars1 = results['Training Time']\n",
        "bars2 = results['Prediction Time']\n",
        " \n",
        "# Set position of bar on X axis\n",
        "r1 = np.arange(len(bars1))\n",
        "r2 = [x + barWidth for x in r1]\n",
        " \n",
        "# Make the plot\n",
        "plt.bar(r1, bars1, color= pal[2], width=barWidth, edgecolor='white', label='Training Time')\n",
        "plt.bar(r2, bars2, color= pal[0], width=barWidth, edgecolor='white', label='Prediction Time')\n",
        " \n",
        "# Add xticks on the middle of the group bars\n",
        "plt.xlabel('Algorithm', fontweight='bold', fontsize = 13)\n",
        "plt.ylabel('Time (seconds)', fontweight = 'bold', fontsize = 13)\n",
        "plt.xticks([r + barWidth for r in range(len(bars1))], results['Algorithm'], rotation = 15, fontsize = 11)\n",
        "\n",
        "\n",
        "textstr = '\\n'.join(('Best Training Time: {:.3f} - {}'.format(best_train_time['Training Time'].values[0], best_train_time['Algorithm'].values[0]), \n",
        "                     'Worst Training Time: {:.3f} - {}'.format(worst_train_time['Training Time'].values[0], worst_train_time['Algorithm'].values[0]),\n",
        "                   'Best Prediction Time: {:.3f} - {}'.format(best_prediction_time['Training Time'].values[0], best_prediction_time['Algorithm'].values[0]), \n",
        "                    'Worst Prediction Time: {:.3f} - {}'.format(worst_prediction_time['Training Time'].values[0], worst_prediction_time['Algorithm'].values[0])))\n",
        "props = dict(boxstyle='round', facecolor='lightgrey', alpha=0.5)\n",
        "\n",
        "#place a text box\n",
        "plt.text(3.2, 12, textstr, fontsize=14,  bbox=props) \n",
        "\n",
        "# Create legend & Show graphic\n",
        "plt.legend(fontsize = 13)\n",
        "plt.title('Training and Prediction time of Algorithms', fontweight = 'bold', fontsize = 17)"
      ]
    },
    {
      "cell_type": "code",
      "execution_count": 15,
      "metadata": {
        "colab": {
          "base_uri": "https://localhost:8080/"
        },
        "id": "NC5fqVyV-dJ7",
        "outputId": "cc5895e4-8689-4bbe-c58a-d9feb22e5477"
      },
      "outputs": [
        {
          "name": "stdout",
          "output_type": "stream",
          "text": [
            "(1, 29980)\n",
            "[0]\n",
            "non-bullying\n"
          ]
        },
        {
          "name": "stderr",
          "output_type": "stream",
          "text": [
            "c:\\Python310\\lib\\site-packages\\sklearn\\feature_extraction\\text.py:404: UserWarning: Your stop_words may be inconsistent with your preprocessing. Tokenizing the stop words generated tokens ['ninad'] not in stop_words.\n",
            "  warnings.warn(\n"
          ]
        }
      ],
      "source": [
        "data = [\"\"]\n",
        "tfidf_vector = TfidfVectorizer(stop_words= content_list, lowercase = True,vocabulary=pickle.load(open(r\"C:\\Users\\selvi\\Desktop\\Harish ECE\\CyberBullying-Detection-in-English-Languages-Using-Machine-Learning-\\Code\\tfidf_vector_vocabulary.pkl\", \"rb\")))\n",
        "data= tfidf_vector.fit_transform(data)\n",
        "print(data.shape)\n",
        "trained_model=pickle.load(open(r\"C:\\Users\\selvi\\Desktop\\Harish ECE\\CyberBullying-Detection-in-English-Languages-Using-Machine-Learning-\\Code\\LinearSVC.pkl\", 'rb'))\n",
        "print(trained_model.predict(data))\n",
        "if(trained_model.predict(data)==1):\n",
        "  print('bullying')\n",
        "else:\n",
        "  print('non-bullying')"
      ]
    },
    {
      "cell_type": "code",
      "execution_count": 16,
      "metadata": {
        "id": "ujpkQbHvXhNa"
      },
      "outputs": [],
      "source": [
        "from sklearn.model_selection import GridSearchCV\n",
        "def param_tuning(clf, param_dict, X_train, y_train, X_test, y_test):\n",
        "    \n",
        "    # make scorer object\n",
        "    scorer = make_scorer(f1_score)\n",
        "\n",
        "    # perform Grid Search for Parameters\n",
        "    grid_obj = GridSearchCV(estimator = clf,\n",
        "                           param_grid = param_dict,\n",
        "                           scoring = scorer,\n",
        "                           cv = 5)\n",
        "\n",
        "    grid_fit = grid_obj.fit(X_train, y_train)\n",
        "\n",
        "    # Get the estimator\n",
        "    best_clf = grid_fit.best_estimator_\n",
        "\n",
        "    # Make predictions using the unoptimized and model\n",
        "    predictions = (clf.fit(X_train, y_train)).predict(X_test)\n",
        "    best_predictions = best_clf.predict(X_test)\n",
        "    \n",
        "    # Report the before-and-afterscores\n",
        "    print(clf.__class__.__name__)\n",
        "    print(\"\\nOptimized Model\\n------\")\n",
        "    print(\"Best Parameters: {}\".format(grid_fit.best_params_))\n",
        "    print(\"Accuracy: {:.4f}\".format(accuracy_score(y_test, best_predictions)))\n",
        "    print(\"F1-score: {:.4f}\".format(f1_score(y_test, best_predictions)))\n",
        "    print(\"Precision: {:.4f}\".format(precision_score(y_test, best_predictions)))\n",
        "    print(\"Recall: {:.4f}\".format(recall_score(y_test, best_predictions)))"
      ]
    },
    {
      "cell_type": "code",
      "execution_count": 17,
      "metadata": {
        "colab": {
          "base_uri": "https://localhost:8080/"
        },
        "id": "UE3NWuV-X_ye",
        "outputId": "bb490438-ec4f-4c0b-deb1-01c089daad3d"
      },
      "outputs": [
        {
          "name": "stdout",
          "output_type": "stream",
          "text": [
            "LinearSVC\n",
            "\n",
            "Optimized Model\n",
            "------\n",
            "Best Parameters: {'C': 1.2}\n",
            "Accuracy: 0.9459\n",
            "F1-score: 0.9578\n",
            "Precision: 0.9606\n",
            "Recall: 0.9549\n"
          ]
        }
      ],
      "source": [
        "param_grid = {\n",
        "    'C': [0.25, 0.5, 0.75, 1, 1.2]\n",
        "}\n",
        "\n",
        "clf_linsvc = LinearSVC()\n",
        "\n",
        "param_tuning(clf_linsvc, param_grid, training_data, y_train, testing_data, y_test)\n",
        "pickle.dump(clf_linsvc, open('clf_svc_model.pkl', 'wb'))"
      ]
    },
    {
      "cell_type": "code",
      "execution_count": 17,
      "metadata": {},
      "outputs": [],
      "source": [
        "parameter_grid_logistic_regression = {\n",
        "    'max_iter': [20, 50, 100, 200, 500, 1000],                      # Number of iterations\n",
        "    'solver': ['newton-cg', 'lbfgs', 'liblinear', 'sag', 'saga'],   # Algorithm to use for optimization\n",
        "    'class_weight': ['balanced']                                    # Troubleshoot unbalanced data sampling\n",
        "}  "
      ]
    }
  ],
  "metadata": {
    "colab": {
      "name": "LY_project_Grp_No_51_TFIDF.ipynb",
      "provenance": []
    },
    "kernelspec": {
      "display_name": "Python 3.10.1 64-bit",
      "language": "python",
      "name": "python3"
    },
    "language_info": {
      "codemirror_mode": {
        "name": "ipython",
        "version": 3
      },
      "file_extension": ".py",
      "mimetype": "text/x-python",
      "name": "python",
      "nbconvert_exporter": "python",
      "pygments_lexer": "ipython3",
      "version": "3.10.1"
    },
    "vscode": {
      "interpreter": {
        "hash": "369f2c481f4da34e4445cda3fffd2e751bd1c4d706f27375911949ba6bb62e1c"
      }
    }
  },
  "nbformat": 4,
  "nbformat_minor": 0
}
