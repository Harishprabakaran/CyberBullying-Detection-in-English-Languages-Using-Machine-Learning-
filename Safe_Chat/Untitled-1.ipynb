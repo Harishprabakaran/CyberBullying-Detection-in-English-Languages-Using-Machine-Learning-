{
 "cells": [
  {
   "cell_type": "code",
   "execution_count": 5,
   "metadata": {},
   "outputs": [],
   "source": [
    "import socket \n",
    "from _thread import *\n",
    "import sys\n",
    "from collections import defaultdict as df\n",
    "import pickle\n",
    "from sklearn.feature_extraction.text import TfidfVectorizer, TfidfTransformer\n",
    "import time"
   ]
  },
  {
   "cell_type": "code",
   "execution_count": 6,
   "metadata": {},
   "outputs": [],
   "source": [
    "class Server:\n",
    "    def __init__(self):\n",
    "        self.rooms = df(list)\n",
    "        self.server = socket.socket(socket.AF_INET, socket.SOCK_STREAM)\n",
    "        self.server.setsockopt(socket.SOL_SOCKET, socket.SO_REUSEADDR, 1)"
   ]
  },
  {
   "cell_type": "code",
   "execution_count": 4,
   "metadata": {},
   "outputs": [],
   "source": [
    "model = pickle.load(open(r\"C:\\Users\\selvi\\Desktop\\clone to vs code\\CyberBullying-Detection-in-Hinglish-Languages-Using-Machine-Learning-\\Safe_Chat\\LinearSVC.pkl\", 'rb'))"
   ]
  },
  {
   "cell_type": "code",
   "execution_count": 19,
   "metadata": {},
   "outputs": [],
   "source": [
    "       def accept_connections(self, ip_address, port):\n",
    "            self.ip_address = ip_address\n",
    "            self.port = port\n",
    "            self.server.bind((self.ip_address, int(self.port)))\n",
    "            self.server.listen(100)\n",
    "\n",
    "            while True:\n",
    "                 connection, address = self.server.accept()\n",
    "                 print(str(address[0]) + \":\" + str(address[1]) + \" Connected\")\n",
    "\n",
    "                 start_new_thread(self.clientThread, (connection,))\n",
    "\n",
    "            self.server.close()\n"
   ]
  },
  {
   "cell_type": "code",
   "execution_count": 20,
   "metadata": {},
   "outputs": [],
   "source": [
    "    def clientThread(self, connection):\n",
    "        user_id = connection.recv(1024).decode().replace(\"User \", \"\")\n",
    "        room_id = connection.recv(1024).decode().replace(\"Join \", \"\")\n",
    "\n",
    "        if room_id not in self.rooms:\n",
    "            connection.send(\"New Group created\".encode())\n",
    "        else:\n",
    "            connection.send(\"Welcome to chat room\".encode())\n",
    "\n",
    "        self.rooms[room_id].append(connection)\n",
    "\n",
    "        while True:\n",
    "            try:\n",
    "                message = connection.recv(1024)\n",
    "                pred=0\n",
    "                if message:\n",
    "                    if str(message.decode()) == \"FILE\":\n",
    "                        self.broadcastFile(connection, room_id, user_id)\n",
    "\n",
    "                    else:\n",
    "                        # print('Am I fucking here')\n",
    "                        pred=self.prettyPrinter(str(message.decode()))\n",
    "                        message_to_send = \"<\" + str(user_id) + \"> \" + message.decode()\n",
    "                        self.broadcast(message_to_send, connection, room_id,pred)\n",
    "\n",
    "                else:\n",
    "                    self.remove(connection, room_id)\n",
    "            except Exception as e:\n",
    "                print(repr(e))\n",
    "                print(\"Client disconnected earlier\")\n",
    "                break"
   ]
  },
  {
   "cell_type": "code",
   "execution_count": 21,
   "metadata": {},
   "outputs": [],
   "source": [
    "    def prettyPrinter(self,data_1):\n",
    "         # List of stopwords \n",
    "        my_file = open(r\"C:\\Users\\selvi\\Desktop\\clone to vs code\\CyberBullying-Detection-in-Hinglish-Languages-Using-Machine-Learning-\\Safe_Chat\\stopwords.txt\", \"r\")\n",
    "        content = my_file.read()\n",
    "        content_list = content.split(\"\\n\")\n",
    "        my_file.close()\n",
    "        tfidf_vector =  TfidfVectorizer(stop_words = content_list, lowercase = True,vocabulary=pickle.load(open(r\"C:\\Users\\selvi\\Desktop\\clone to vs code\\CyberBullying-Detection-in-Hinglish-Languages-Using-Machine-Learning-\\Safe_Chat\\tfidf_vector_vocabulary.pkl\", \"rb\")))\n",
    "        data_2=tfidf_vector.fit_transform([data_1])\n",
    "        print(data_2)\n",
    "        pred = model.predict(data_2)\n",
    "        print(pred)\n",
    "        if pred==0:\n",
    "            print('Non bullying')\n",
    "            return pred\n",
    "        else: \n",
    "            print(\"Stop bullying people and behave decently.\")\n",
    "            return pred"
   ]
  },
  {
   "cell_type": "code",
   "execution_count": 23,
   "metadata": {},
   "outputs": [],
   "source": [
    "    def broadcast(self, message_to_send, connection, room_id,pred):\n",
    "        for client in self.rooms[room_id]:\n",
    "            if client != connection:\n",
    "                try:\n",
    "                    if pred==0:\n",
    "                        client.send(message_to_send.encode())\n",
    "                    else :\n",
    "                        client.send(\"Bullying message detected it has been hidden\".encode())\n",
    "                except:\n",
    "                    client.close()\n",
    "                    self.remove(client, room_id)"
   ]
  },
  {
   "cell_type": "code",
   "execution_count": 24,
   "metadata": {},
   "outputs": [],
   "source": [
    "    def remove(self, connection, room_id):\n",
    "        if connection in self.rooms[room_id]:\n",
    "            self.rooms[room_id].remove(connection)"
   ]
  },
  {
   "cell_type": "code",
   "execution_count": 38,
   "metadata": {},
   "outputs": [
    {
     "ename": "AttributeError",
     "evalue": "'Server' object has no attribute 'accept_connections'",
     "output_type": "error",
     "traceback": [
      "\u001b[1;31m---------------------------------------------------------------------------\u001b[0m",
      "\u001b[1;31mAttributeError\u001b[0m                            Traceback (most recent call last)",
      "\u001b[1;32mUntitled-1.ipynb Cell 9'\u001b[0m in \u001b[0;36m<cell line: 1>\u001b[1;34m()\u001b[0m\n\u001b[0;32m      <a href='vscode-notebook-cell:Untitled-1.ipynb?jupyter-notebook#ch0000009untitled?line=2'>3</a>\u001b[0m port \u001b[39m=\u001b[39m \u001b[39m12345\u001b[39m\n\u001b[0;32m      <a href='vscode-notebook-cell:Untitled-1.ipynb?jupyter-notebook#ch0000009untitled?line=3'>4</a>\u001b[0m s \u001b[39m=\u001b[39m Server()\n\u001b[1;32m----> <a href='vscode-notebook-cell:Untitled-1.ipynb?jupyter-notebook#ch0000009untitled?line=4'>5</a>\u001b[0m s\u001b[39m.\u001b[39;49maccept_connections(ip_address, port)\n",
      "\u001b[1;31mAttributeError\u001b[0m: 'Server' object has no attribute 'accept_connections'"
     ]
    }
   ],
   "source": [
    "if __name__ == \"__main__\":\n",
    "    ip_address = \"127.0.0.1\"\n",
    "    port = 12345\n",
    "    s = Server()\n",
    "    s.accept_connections(ip_address, port)"
   ]
  },
  {
   "cell_type": "code",
   "execution_count": 34,
   "metadata": {},
   "outputs": [
    {
     "name": "stdout",
     "output_type": "stream",
     "text": [
      "Connected To server\n"
     ]
    },
    {
     "ename": "OSError",
     "evalue": "[WinError 10038] An operation was attempted on something that is not a socket",
     "output_type": "error",
     "traceback": [
      "\u001b[1;31m---------------------------------------------------------------------------\u001b[0m",
      "\u001b[1;31mOSError\u001b[0m                                   Traceback (most recent call last)",
      "\u001b[1;32mUntitled-1.ipynb Cell 10'\u001b[0m in \u001b[0;36m<cell line: 43>\u001b[1;34m()\u001b[0m\n\u001b[0;32m     <a href='vscode-notebook-cell:Untitled-1.ipynb?jupyter-notebook#ch0000010untitled?line=42'>43</a>\u001b[0m \u001b[39mwhile\u001b[39;00m \u001b[39mTrue\u001b[39;00m:\n\u001b[0;32m     <a href='vscode-notebook-cell:Untitled-1.ipynb?jupyter-notebook#ch0000010untitled?line=43'>44</a>\u001b[0m     socket_list \u001b[39m=\u001b[39m [sys\u001b[39m.\u001b[39mstdin, server]\n\u001b[1;32m---> <a href='vscode-notebook-cell:Untitled-1.ipynb?jupyter-notebook#ch0000010untitled?line=45'>46</a>\u001b[0m     read_socket, write_socket, error_socket \u001b[39m=\u001b[39m select\u001b[39m.\u001b[39;49mselect(socket_list, [], [])\n\u001b[0;32m     <a href='vscode-notebook-cell:Untitled-1.ipynb?jupyter-notebook#ch0000010untitled?line=47'>48</a>\u001b[0m     \u001b[39mfor\u001b[39;00m socks \u001b[39min\u001b[39;00m read_socket:\n\u001b[0;32m     <a href='vscode-notebook-cell:Untitled-1.ipynb?jupyter-notebook#ch0000010untitled?line=48'>49</a>\u001b[0m         \u001b[39mif\u001b[39;00m socks \u001b[39m==\u001b[39m server:\n",
      "\u001b[1;31mOSError\u001b[0m: [WinError 10038] An operation was attempted on something that is not a socket"
     ]
    }
   ],
   "source": [
    "import socket\n",
    "import select\n",
    "import sys\n",
    "import time\n",
    "import pickle\n",
    "import os\n",
    "from sklearn.feature_extraction.text import TfidfVectorizer, TfidfTransformer\n",
    "\n",
    "model = pickle.load(open(r\"C:\\Users\\selvi\\Desktop\\clone to vs code\\CyberBullying-Detection-in-Hinglish-Languages-Using-Machine-Learning-\\Safe_Chat\\LinearSVC.pkl\", 'rb'))\n",
    "server = socket.socket(socket.AF_INET, socket.SOCK_STREAM)\n",
    "IP_address = \"127.0.0.1\"\n",
    "port = 12345\n",
    "\n",
    "server.connect((IP_address, port))\n",
    "print(\"Connected To server\")\n",
    "\n",
    "user_id = input(\"Type user id: \")\n",
    "room_id = input(\"Type room id: \")\n",
    "\n",
    "server.send(str.encode(user_id))\n",
    "time.sleep(0.1)\n",
    "server.send(str.encode(room_id))\n",
    "\n",
    "def prettyPrinter(self,data_1):\n",
    "         # List of stopwords \n",
    "    my_file = open(r\"C:\\Users\\selvi\\Desktop\\clone to vs code\\CyberBullying-Detection-in-Hinglish-Languages-Using-Machine-Learning-\\Safe_Chat\\stopwords.txt\", \"r\")\n",
    "    content = my_file.read()\n",
    "    content_list = content.split(\"\\n\")\n",
    "    my_file.close()\n",
    "    tfidf_vector =  TfidfVectorizer(stop_words = content_list, lowercase = True,vocabulary=pickle.load(open(r\"C:\\Users\\selvi\\Desktop\\clone to vs code\\CyberBullying-Detection-in-Hinglish-Languages-Using-Machine-Learning-\\Safe_Chat\\tfidf_vector_vocabulary.pkl\", \"rb\")))\n",
    "    data_2=tfidf_vector.fit_transform([data_1])\n",
    "    print(data_2)\n",
    "    pred = model.predict(data_2)\n",
    "    print(pred)\n",
    "    if pred==0:\n",
    "        print('Non bullying')\n",
    "        return pred\n",
    "    else: \n",
    "        # print(\"Stop bullying people and behave decently. If you do this again we will block you.\")\n",
    "        print(\"Bullying message detected it has been hidden\")\n",
    "        return pred\n",
    "\n",
    "while True:\n",
    "    socket_list = [sys.stdin, server]\n",
    "\n",
    "    read_socket, write_socket, error_socket = select.select(socket_list, [], [])\n",
    "\n",
    "    for socks in read_socket:\n",
    "        if socks == server:\n",
    "            message = socks.recv(1024)\n",
    "            \n",
    "            print(str(message.decode()))\n",
    "\n",
    "            if str(message.decode()) == \"FILE\":\n",
    "                file_name = socks.recv(1024).decode()\n",
    "                lenOfFile = socks.recv(1024).decode()\n",
    "                send_user = socks.recv(1024).decode()\n",
    "\n",
    "                if os.path.exists(file_name):\n",
    "                    os.remove(file_name)\n",
    "\n",
    "                print(file_name, lenOfFile, send_user)\n",
    "\n",
    "                total = 0\n",
    "                with open(file_name, 'wb') as file:\n",
    "                    while str(total) != lenOfFile:\n",
    "                        data = socks.recv(1024)\n",
    "                        total = total + len(data)     \n",
    "                        file.write(data)\n",
    "                print(\"<\" + str(send_user) + \"> \" + file_name + \" sent\")\n",
    "                       \n",
    "            else:\n",
    "                print(message.decode())\n",
    "\n",
    "        else:\n",
    "            message = sys.stdin.readline()\n",
    "\n",
    "            if str(message) == \"FILE\\n\":\n",
    "                file_name = input(\"Enter the file name : \")\n",
    "                server.send(\"FILE\".encode())\n",
    "                time.sleep(0.1)\n",
    "                server.send(str(\"client_\" + file_name).encode())\n",
    "                time.sleep(0.1)\n",
    "                server.send(str(os.path.getsize(file_name)).encode())\n",
    "                time.sleep(0.1)\n",
    "\n",
    "                file = open(file_name, \"rb\")\n",
    "                data = file.read(1024)\n",
    "                while data:\n",
    "                    server.send(data)\n",
    "                    data = file.read(1024)\n",
    "                sys.stdout.write(\"<You>\")\n",
    "                sys.stdout.write(\"File sent successfully\\n\")\n",
    "                sys.stdout.flush()\n",
    "\n",
    "            else:\n",
    "                server.send(message.encode())\n",
    "                sys.stdout.write(\"<You>\")\n",
    "                sys.stdout.write(message)\n",
    "                sys.stdout.flush()\n",
    "server.close()\n",
    "\n"
   ]
  }
 ],
 "metadata": {
  "kernelspec": {
   "display_name": "Python 3.10.1 64-bit",
   "language": "python",
   "name": "python3"
  },
  "language_info": {
   "codemirror_mode": {
    "name": "ipython",
    "version": 3
   },
   "file_extension": ".py",
   "mimetype": "text/x-python",
   "name": "python",
   "nbconvert_exporter": "python",
   "pygments_lexer": "ipython3",
   "version": "3.10.1"
  },
  "orig_nbformat": 4,
  "vscode": {
   "interpreter": {
    "hash": "369f2c481f4da34e4445cda3fffd2e751bd1c4d706f27375911949ba6bb62e1c"
   }
  }
 },
 "nbformat": 4,
 "nbformat_minor": 2
}
